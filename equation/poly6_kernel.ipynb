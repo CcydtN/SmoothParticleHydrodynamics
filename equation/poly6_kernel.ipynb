{
 "cells": [
  {
   "cell_type": "code",
   "execution_count": 7,
   "metadata": {},
   "outputs": [],
   "source": [
    "from sympy import *\n",
    "from sympy.physics.mechanics import *\n",
    "import math\n",
    "init_vprinting()"
   ]
  },
  {
   "cell_type": "code",
   "execution_count": 8,
   "metadata": {},
   "outputs": [
    {
     "data": {
      "image/png": "[encoded data removed]",
      "text/latex": [
       "$\\displaystyle \\frac{15 \\left(\\frac{h}{2 r} - 1 + \\frac{r^{2}}{h^{2}} - \\frac{r^{3}}{2 h^{3}}\\right)}{2 h^{3} π}$"
      ],
      "text/plain": [
       "   ⎛           2     3 ⎞\n",
       "   ⎜ h        r     r  ⎟\n",
       "15⋅⎜─── - 1 + ── - ────⎟\n",
       "   ⎜2⋅r        2      3⎟\n",
       "   ⎝          h    2⋅h ⎠\n",
       "────────────────────────\n",
       "            3           \n",
       "         2⋅h ⋅π         "
      ]
     },
     "execution_count": 8,
     "metadata": {},
     "output_type": "execute_result"
    }
   ],
   "source": [
    "h, r, pi = symbols(\"h r π\")\n",
    "\n",
    "smoothing_func = 15 / (2 * pi * h **3 ) * (-r**3/(2*h**3) + (r/h)**2 + h/(2*r) -1)\n",
    "smoothing_func\n"
   ]
  },
  {
   "cell_type": "code",
   "execution_count": 9,
   "metadata": {},
   "outputs": [
    {
     "data": {
      "image/png": "[encoded data removed]",
      "text/latex": [
       "$\\displaystyle \\frac{15 \\left(- h^{4} + 4 h r^{3} - 3 r^{4}\\right)}{4 h^{6} r^{2} π}$"
      ],
      "text/plain": [
       "   ⎛   4        3      4⎞\n",
       "15⋅⎝- h  + 4⋅h⋅r  - 3⋅r ⎠\n",
       "─────────────────────────\n",
       "           6  2          \n",
       "        4⋅h ⋅r ⋅π        "
      ]
     },
     "execution_count": 9,
     "metadata": {},
     "output_type": "execute_result"
    }
   ],
   "source": [
    "gradient = simplify(diff(smoothing_func, r))\n",
    "gradient"
   ]
  },
  {
   "cell_type": "code",
   "execution_count": 10,
   "metadata": {},
   "outputs": [
    {
     "data": {
      "image/png": "[encoded data removed]",
      "text/latex": [
       "$\\displaystyle \\frac{15 \\left(h^{4} + 2 h r^{3} - 3 r^{4}\\right)}{2 h^{6} r^{3} π}$"
      ],
      "text/plain": [
       "   ⎛ 4        3      4⎞\n",
       "15⋅⎝h  + 2⋅h⋅r  - 3⋅r ⎠\n",
       "───────────────────────\n",
       "          6  3         \n",
       "       2⋅h ⋅r ⋅π       "
      ]
     },
     "execution_count": 10,
     "metadata": {},
     "output_type": "execute_result"
    }
   ],
   "source": [
    "laplacian = simplify(diff(gradient, r))\n",
    "laplacian"
   ]
  }
 ],
 "metadata": {
  "kernelspec": {
   "display_name": "Python 3",
   "language": "python",
   "name": "python3"
  },
  "language_info": {
   "codemirror_mode": {
    "name": "ipython",
    "version": 3
   },
   "file_extension": ".py",
   "mimetype": "text/x-python",
   "name": "python",
   "nbconvert_exporter": "python",
   "pygments_lexer": "ipython3",
   "version": "3.11.8"
  }
 },
 "nbformat": 4,
 "nbformat_minor": 2
}
