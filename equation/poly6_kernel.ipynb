{
 "cells": [
  {
   "cell_type": "code",
   "execution_count": 82,
   "metadata": {},
   "outputs": [],
   "source": [
    "from sympy import *\n",
    "from sympy.physics.mechanics import *\n",
    "import math\n",
    "init_vprinting()"
   ]
  },
  {
   "cell_type": "code",
   "execution_count": 83,
   "metadata": {},
   "outputs": [],
   "source": [
    "h, r, pi = symbols(\"h r π\")\n",
    "\n",
    "func = (h**2 - r**2)**3\n",
    "\n",
    "volume = integrate(2*pi*r*func, (r, 0, h))\n",
    "func = func / volume\n",
    "\n",
    "simplify(volume)"
   ]
  },
  {
   "cell_type": "code",
   "execution_count": 84,
   "metadata": {},
   "outputs": [
    {
     "data": {
      "image/png": "[encoded data removed]",
      "text/latex": [
       "$\\displaystyle \\frac{4 \\left(h^{2} - r^{2}\\right)^{3}}{h^{8} π}$"
      ],
      "text/plain": [
       "           3\n",
       "  ⎛ 2    2⎞ \n",
       "4⋅⎝h  - r ⎠ \n",
       "────────────\n",
       "     8      \n",
       "    h ⋅π    "
      ]
     },
     "execution_count": 84,
     "metadata": {},
     "output_type": "execute_result"
    }
   ],
   "source": [
    "simplify(func)"
   ]
  },
  {
   "cell_type": "code",
   "execution_count": 85,
   "metadata": {},
   "outputs": [
    {
     "data": {
      "image/png": "[encoded data removed]",
      "text/latex": [
       "$\\displaystyle - \\frac{24 r \\left(h^{2} - r^{2}\\right)^{2}}{h^{8} π}$"
      ],
      "text/plain": [
       "               2 \n",
       "      ⎛ 2    2⎞  \n",
       "-24⋅r⋅⎝h  - r ⎠  \n",
       "─────────────────\n",
       "        8        \n",
       "       h ⋅π      "
      ]
     },
     "execution_count": 85,
     "metadata": {},
     "output_type": "execute_result"
    }
   ],
   "source": [
    "gradient = simplify(diff(func, r))\n",
    "simplify(gradient)"
   ]
  },
  {
   "cell_type": "code",
   "execution_count": 86,
   "metadata": {},
   "outputs": [
    {
     "data": {
      "image/png": "[encoded data removed]",
      "text/latex": [
       "$\\displaystyle - \\frac{24 \\left(h^{2} - 5 r^{2}\\right) \\left(h^{2} - r^{2}\\right)}{h^{8} π}$"
      ],
      "text/plain": [
       "    ⎛ 2      2⎞ ⎛ 2    2⎞ \n",
       "-24⋅⎝h  - 5⋅r ⎠⋅⎝h  - r ⎠ \n",
       "──────────────────────────\n",
       "            8             \n",
       "           h ⋅π           "
      ]
     },
     "execution_count": 86,
     "metadata": {},
     "output_type": "execute_result"
    }
   ],
   "source": [
    "laplacian = simplify(diff(gradient, r))\n",
    "simplify(laplacian)"
   ]
  }
 ],
 "metadata": {
  "kernelspec": {
   "display_name": "Python 3",
   "language": "python",
   "name": "python3"
  },
  "language_info": {
   "codemirror_mode": {
    "name": "ipython",
    "version": 3
   },
   "file_extension": ".py",
   "mimetype": "text/x-python",
   "name": "python",
   "nbconvert_exporter": "python",
   "pygments_lexer": "ipython3",
   "version": "3.11.8"
  }
 },
 "nbformat": 4,
 "nbformat_minor": 2
}
