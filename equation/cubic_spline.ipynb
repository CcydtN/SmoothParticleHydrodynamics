{
 "cells": [
  {
   "cell_type": "code",
   "execution_count": 4,
   "metadata": {},
   "outputs": [],
   "source": [
    "from sympy import *\n",
    "from sympy.physics.mechanics import *\n",
    "import math\n",
    "init_vprinting()"
   ]
  },
  {
   "cell_type": "code",
   "execution_count": 12,
   "metadata": {},
   "outputs": [
    {
     "data": {
      "image/png": "[encoded data removed]",
      "text/latex": [
       "$\\displaystyle 1.0 h^{3} π$"
      ],
      "text/plain": [
       "     3  \n",
       "1.0⋅h ⋅π"
      ]
     },
     "execution_count": 12,
     "metadata": {},
     "output_type": "execute_result"
    }
   ],
   "source": [
    "h, r, pi = symbols(\"h r π\")\n",
    "q = r / h\n",
    "\n",
    "func_a = 1 - 3/2*q**2 + 3/4 *q**3\n",
    "func_b = 1/4*(2-q)**3\n",
    "\n",
    "volume = integrate(4*pi*r**2*func_a, (r, 0, h)) + integrate(4*pi*r**2*func_b, (r, h, 2*h))\n",
    "\n",
    "simplify(volume)"
   ]
  },
  {
   "cell_type": "code",
   "execution_count": 6,
   "metadata": {},
   "outputs": [
    {
     "data": {
      "image/png": "[encoded data removed]",
      "text/latex": [
       "$\\displaystyle \\frac{h^{3} - 1.5 h r^{2} + 0.75 r^{3}}{h^{3}}$"
      ],
      "text/plain": [
       " 3          2         3\n",
       "h  - 1.5⋅h⋅r  + 0.75⋅r \n",
       "───────────────────────\n",
       "            3          \n",
       "           h           "
      ]
     },
     "execution_count": 6,
     "metadata": {},
     "output_type": "execute_result"
    }
   ],
   "source": [
    "simplify(func_a)"
   ]
  },
  {
   "cell_type": "code",
   "execution_count": 7,
   "metadata": {},
   "outputs": [
    {
     "data": {
      "image/png": "[encoded data removed]",
      "text/latex": [
       "$\\displaystyle - \\frac{r \\left(3.0 h - 2.25 r\\right)}{h^{3}}$"
      ],
      "text/plain": [
       "-r⋅(3.0⋅h - 2.25⋅r) \n",
       "────────────────────\n",
       "          3         \n",
       "         h          "
      ]
     },
     "execution_count": 7,
     "metadata": {},
     "output_type": "execute_result"
    }
   ],
   "source": [
    "gradient = simplify(diff(func_a, r))\n",
    "simplify(gradient)"
   ]
  },
  {
   "cell_type": "code",
   "execution_count": 8,
   "metadata": {},
   "outputs": [
    {
     "data": {
      "image/png": "[encoded data removed]",
      "text/latex": [
       "$\\displaystyle \\frac{- 3.0 h + 4.5 r}{h^{3}}$"
      ],
      "text/plain": [
       "-3.0⋅h + 4.5⋅r\n",
       "──────────────\n",
       "       3      \n",
       "      h       "
      ]
     },
     "execution_count": 8,
     "metadata": {},
     "output_type": "execute_result"
    }
   ],
   "source": [
    "laplacian = simplify(diff(gradient, r))\n",
    "simplify(laplacian)"
   ]
  }
 ],
 "metadata": {
  "kernelspec": {
   "display_name": "Python 3",
   "language": "python",
   "name": "python3"
  },
  "language_info": {
   "codemirror_mode": {
    "name": "ipython",
    "version": 3
   },
   "file_extension": ".py",
   "mimetype": "text/x-python",
   "name": "python",
   "nbconvert_exporter": "python",
   "pygments_lexer": "ipython3",
   "version": "3.11.8"
  }
 },
 "nbformat": 4,
 "nbformat_minor": 2
}
