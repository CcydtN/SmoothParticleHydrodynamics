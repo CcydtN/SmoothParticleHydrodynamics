{
 "cells": [
  {
   "cell_type": "code",
   "execution_count": 123,
   "metadata": {},
   "outputs": [],
   "source": [
    "from sympy import *\n",
    "from sympy.physics.mechanics import *\n",
    "import math\n",
    "init_vprinting()"
   ]
  },
  {
   "cell_type": "code",
   "execution_count": 124,
   "metadata": {},
   "outputs": [
    {
     "data": {
      "image/png": "[encoded data removed]",
      "text/latex": [
       "$\\displaystyle 4 h^{3} π$"
      ],
      "text/plain": [
       "   3  \n",
       "4⋅h ⋅π"
      ]
     },
     "execution_count": 124,
     "metadata": {},
     "output_type": "execute_result"
    }
   ],
   "source": [
    "h, r, pi = symbols(\"h r π\")\n",
    "q = r / h\n",
    "\n",
    "\n",
    "func_a = (2-q)**3 - 4*(1-q)**3\n",
    "func_b = (2-q)**3\n",
    "\n",
    "volume = integrate(4*pi*r**2*func_a, (r, 0, h)) + integrate(4*pi*r**2*func_b, (r, h, 2*h))\n",
    "\n",
    "simplify(volume)"
   ]
  },
  {
   "cell_type": "code",
   "execution_count": 125,
   "metadata": {},
   "outputs": [
    {
     "data": {
      "image/png": "[encoded data removed]",
      "text/latex": [
       "$\\displaystyle \\left[ \\frac{- 4 \\left(h - r\\right)^{3} + \\left(2 h - r\\right)^{3}}{h^{3}}, \\  \\frac{\\left(2 h - r\\right)^{3}}{h^{3}}\\right]$"
      ],
      "text/plain": [
       "⎡           3            3           3⎤\n",
       "⎢- 4⋅(h - r)  + (2⋅h - r)   (2⋅h - r) ⎥\n",
       "⎢─────────────────────────, ──────────⎥\n",
       "⎢             3                  3    ⎥\n",
       "⎣            h                  h     ⎦"
      ]
     },
     "execution_count": 125,
     "metadata": {},
     "output_type": "execute_result"
    }
   ],
   "source": [
    "func = list(map(simplify, [func_a, func_b]))\n",
    "func"
   ]
  },
  {
   "cell_type": "code",
   "execution_count": 126,
   "metadata": {},
   "outputs": [
    {
     "data": {
      "image/png": "[encoded data removed]",
      "text/latex": [
       "$\\displaystyle \\left[ \\frac{3 r \\left(- 4 h + 3 r\\right)}{h^{3}}, \\  - \\frac{3 \\left(2 h - r\\right)^{2}}{h^{3}}\\right]$"
      ],
      "text/plain": [
       "⎡                              2 ⎤\n",
       "⎢3⋅r⋅(-4⋅h + 3⋅r)  -3⋅(2⋅h - r)  ⎥\n",
       "⎢────────────────, ──────────────⎥\n",
       "⎢        3                3      ⎥\n",
       "⎣       h                h       ⎦"
      ]
     },
     "execution_count": 126,
     "metadata": {},
     "output_type": "execute_result"
    }
   ],
   "source": [
    "gradient_func = lambda x: simplify(diff(x, r))\n",
    "gradient = list(map(gradient_func, func))\n",
    "gradient"
   ]
  },
  {
   "cell_type": "code",
   "execution_count": 127,
   "metadata": {},
   "outputs": [
    {
     "data": {
      "image/png": "[encoded data removed]",
      "text/latex": [
       "$\\displaystyle \\left[ \\frac{6 \\left(- 2 h + 3 r\\right)}{h^{3}}, \\  \\frac{6 \\cdot \\left(2 h - r\\right)}{h^{3}}\\right]$"
      ],
      "text/plain": [
       "⎡6⋅(-2⋅h + 3⋅r)  6⋅(2⋅h - r)⎤\n",
       "⎢──────────────, ───────────⎥\n",
       "⎢       3              3    ⎥\n",
       "⎣      h              h     ⎦"
      ]
     },
     "execution_count": 127,
     "metadata": {},
     "output_type": "execute_result"
    }
   ],
   "source": [
    "lacian_func = lambda func: simplify(diff(func, r))\n",
    "lapcian = list(map(lacian_func, gradient))\n",
    "lapcian"
   ]
  },
  {
   "cell_type": "code",
   "execution_count": 128,
   "metadata": {},
   "outputs": [
    {
     "name": "stdout",
     "output_type": "stream",
     "text": [
      "[(0.0, 0.318309886183791), (0.2, 0.301121152329866), (0.4, 0.257194388036503), (0.6000000000000001, 0.197988749206318), (0.8, 0.134963391741927), (1.0, 0.0795774715459477), (1.2, 0.0407436654315252), (1.4, 0.0171887338539247), (1.6, 0.00509295817894065), (1.8, 0.000636619772367581)]\n"
     ]
    }
   ],
   "source": [
    "s = [(h, 1), (pi, math.pi)]\n",
    "\n",
    "# Assume h == 1\n",
    "a = [(2/10*i, (func_a/volume).subs([(r,2/10*i)]).subs(s)) for i in range(5)]\n",
    "b = [(2/10*i+1, (func_b/volume).subs([(r,2/10*i+1)]).subs(s)) for i in range(5)]\n",
    "print(a+b)"
   ]
  },
  {
   "cell_type": "code",
   "execution_count": 129,
   "metadata": {},
   "outputs": [
    {
     "name": "stdout",
     "output_type": "stream",
     "text": [
      "[(0.0, 0), (0.2, -0.162338041953733), (0.4, -0.267380304394384), (0.6000000000000001, -0.315126787321953), (0.8, -0.305577490736439), (1.0, -0.238732414637843), (1.2, -0.152788745368220), (1.4, -0.0859436692696235), (1.6, -0.0381971863420549), (1.8, -0.00954929658551372), (2.0, 0)]\n"
     ]
    }
   ],
   "source": [
    "s = [(h, 1), (pi, math.pi)]\n",
    "\n",
    "# Assume h == 1\n",
    "a = [(2/10*i, (gradient[0]/volume).subs([(r,2/10*i)]).subs(s)) for i in range(5)]\n",
    "b = [(2/10*i+1, (gradient[1]/volume).subs([(r,2/10*i+1)]).subs(s)) for i in range(6)]\n",
    "print(a+b)"
   ]
  },
  {
   "cell_type": "code",
   "execution_count": 130,
   "metadata": {},
   "outputs": [
    {
     "name": "stdout",
     "output_type": "stream",
     "text": [
      "[(0.0, -0.954929658551372), (0.2, -0.668450760985960), (0.4, -0.381971863420549), (0.6000000000000001, -0.0954929658551371), (0.8, 0.190985931710275), (1.0, 0.477464829275686), (1.2, 0.381971863420549), (1.4, 0.286478897565412), (1.6, 0.190985931710274), (1.8, 0.0954929658551372), (2.0, 0)]\n"
     ]
    }
   ],
   "source": [
    "s = [(h, 1), (pi, math.pi)]\n",
    "\n",
    "# Assume h == 1\n",
    "a = [(2/10*i, (lapcian[0]/volume).subs([(r,2/10*i)]).subs(s)) for i in range(5)]\n",
    "b = [(2/10*i+1, (lapcian[1]/volume).subs([(r,2/10*i+1)]).subs(s)) for i in range(6)]\n",
    "print(a+b)"
   ]
  },
  {
   "cell_type": "code",
   "execution_count": 131,
   "metadata": {},
   "outputs": [],
   "source": [
    "s = [(h,1), (pi, math.pi)]\n",
    "vol =  volume.subs(s)\n",
    "target = [ simplify(f/vol).subs(s) for f in func]\n",
    "\n",
    "# plot((target[0], (r, 0, 1)), (target[1], (r, 1, 2)))\n"
   ]
  }
 ],
 "metadata": {
  "kernelspec": {
   "display_name": "Python 3",
   "language": "python",
   "name": "python3"
  },
  "language_info": {
   "codemirror_mode": {
    "name": "ipython",
    "version": 3
   },
   "file_extension": ".py",
   "mimetype": "text/x-python",
   "name": "python",
   "nbconvert_exporter": "python",
   "pygments_lexer": "ipython3",
   "version": "3.11.8"
  }
 },
 "nbformat": 4,
 "nbformat_minor": 2
}
