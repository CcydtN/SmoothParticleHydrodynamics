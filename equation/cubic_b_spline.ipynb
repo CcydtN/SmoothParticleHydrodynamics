{
 "cells": [
  {
   "cell_type": "code",
   "execution_count": 13,
   "metadata": {},
   "outputs": [],
   "source": [
    "from sympy import *\n",
    "from sympy.physics.mechanics import *\n",
    "import math\n",
    "init_vprinting()"
   ]
  },
  {
   "cell_type": "code",
   "execution_count": 14,
   "metadata": {},
   "outputs": [
    {
     "data": {
      "image/png": "[encoded data removed]",
      "text/latex": [
       "$\\displaystyle - 0.577777777777777 h^{3} π$"
      ],
      "text/plain": [
       "                    3  \n",
       "-0.577777777777777⋅h ⋅π"
      ]
     },
     "execution_count": 14,
     "metadata": {},
     "output_type": "execute_result"
    }
   ],
   "source": [
    "h, r, pi = symbols(\"h r π\")\n",
    "q = r / h\n",
    "\n",
    "func_a = (2-q)**3\n",
    "func_b = (2/3 - q + q**2/2 - q**3/6)\n",
    "\n",
    "volume = integrate(4*pi*r**2*func_a, (r, 0, h)) + integrate(4*pi*r**2*func_b, (r, h, 2*h))\n",
    "\n",
    "simplify(volume)"
   ]
  },
  {
   "cell_type": "code",
   "execution_count": 15,
   "metadata": {},
   "outputs": [
    {
     "data": {
      "image/png": "[encoded data removed]",
      "text/latex": [
       "$\\displaystyle \\left[ \\frac{\\left(2 h - r\\right)^{3}}{h^{3}}, \\  0.666666666666667 - \\frac{r}{h} + \\frac{r^{2}}{2 h^{2}} - \\frac{r^{3}}{6 h^{3}}\\right]$"
      ],
      "text/plain": [
       "⎡         3                            2      3 ⎤\n",
       "⎢(2⋅h - r)                       r    r      r  ⎥\n",
       "⎢──────────, 0.666666666666667 - ─ + ──── - ────⎥\n",
       "⎢     3                          h      2      3⎥\n",
       "⎣    h                               2⋅h    6⋅h ⎦"
      ]
     },
     "execution_count": 15,
     "metadata": {},
     "output_type": "execute_result"
    }
   ],
   "source": [
    "func = list(map(simplify, [func_a, func_b]))\n",
    "func"
   ]
  },
  {
   "cell_type": "code",
   "execution_count": 16,
   "metadata": {},
   "outputs": [
    {
     "data": {
      "image/png": "[encoded data removed]",
      "text/latex": [
       "$\\displaystyle \\left[ - \\frac{3 \\left(2 h - r\\right)^{2}}{h^{3}}, \\  \\frac{- h^{2} + h r - \\frac{r^{2}}{2}}{h^{3}}\\right]$"
      ],
      "text/plain": [
       "⎡                              2⎤\n",
       "⎢                   2         r ⎥\n",
       "⎢            2   - h  + h⋅r - ──⎥\n",
       "⎢-3⋅(2⋅h - r)                 2 ⎥\n",
       "⎢──────────────, ───────────────⎥\n",
       "⎢       3                3      ⎥\n",
       "⎣      h                h       ⎦"
      ]
     },
     "execution_count": 16,
     "metadata": {},
     "output_type": "execute_result"
    }
   ],
   "source": [
    "gradient_func = lambda x: simplify(diff(x, r))\n",
    "gradient = list(map(gradient_func, func))\n",
    "gradient"
   ]
  },
  {
   "cell_type": "code",
   "execution_count": 17,
   "metadata": {},
   "outputs": [
    {
     "data": {
      "image/png": "[encoded data removed]",
      "text/latex": [
       "$\\displaystyle \\left[ \\frac{6 \\cdot \\left(2 h - r\\right)}{h^{3}}, \\  \\frac{h - r}{h^{3}}\\right]$"
      ],
      "text/plain": [
       "⎡6⋅(2⋅h - r)  h - r⎤\n",
       "⎢───────────, ─────⎥\n",
       "⎢      3         3 ⎥\n",
       "⎣     h         h  ⎦"
      ]
     },
     "execution_count": 17,
     "metadata": {},
     "output_type": "execute_result"
    }
   ],
   "source": [
    "laplacian_func = lambda func: simplify(diff(func, r))\n",
    "list(map(laplacian_func, gradient))"
   ]
  }
 ],
 "metadata": {
  "kernelspec": {
   "display_name": "Python 3",
   "language": "python",
   "name": "python3"
  },
  "language_info": {
   "codemirror_mode": {
    "name": "ipython",
    "version": 3
   },
   "file_extension": ".py",
   "mimetype": "text/x-python",
   "name": "python",
   "nbconvert_exporter": "python",
   "pygments_lexer": "ipython3",
   "version": "3.11.8"
  }
 },
 "nbformat": 4,
 "nbformat_minor": 2
}
