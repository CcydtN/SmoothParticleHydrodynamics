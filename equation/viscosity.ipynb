{
 "cells": [
  {
   "cell_type": "code",
   "execution_count": 6,
   "metadata": {},
   "outputs": [],
   "source": [
    "from sympy import *\n",
    "from sympy.physics.mechanics import *\n",
    "import math\n",
    "init_vprinting()"
   ]
  },
  {
   "cell_type": "code",
   "execution_count": 7,
   "metadata": {},
   "outputs": [
    {
     "data": {
      "image/png": "[encoded data removed]",
      "text/latex": [
       "$\\displaystyle \\frac{2 h^{3} π}{15}$"
      ],
      "text/plain": [
       "   3  \n",
       "2⋅h ⋅π\n",
       "──────\n",
       "  15  "
      ]
     },
     "execution_count": 7,
     "metadata": {},
     "output_type": "execute_result"
    }
   ],
   "source": [
    "h, r, pi = symbols(\"h r π\")\n",
    "\n",
    "func = (-r**3/(2*h**3) + (r/h)**2 + h/(2*r) -1)\n",
    "\n",
    "volume = integrate(4*pi*r**2*func, (r, 0, h))\n",
    "simplify(volume)\n"
   ]
  },
  {
   "cell_type": "code",
   "execution_count": 8,
   "metadata": {},
   "outputs": [
    {
     "data": {
      "image/png": "[encoded data removed]",
      "text/latex": [
       "$\\displaystyle \\frac{h}{2 r} - 1 + \\frac{r^{2}}{h^{2}} - \\frac{r^{3}}{2 h^{3}}$"
      ],
      "text/plain": [
       "           2     3 \n",
       " h        r     r  \n",
       "─── - 1 + ── - ────\n",
       "2⋅r        2      3\n",
       "          h    2⋅h "
      ]
     },
     "execution_count": 8,
     "metadata": {},
     "output_type": "execute_result"
    }
   ],
   "source": [
    "simplify(func)"
   ]
  },
  {
   "cell_type": "code",
   "execution_count": 9,
   "metadata": {},
   "outputs": [
    {
     "data": {
      "image/png": "[encoded data removed]",
      "text/latex": [
       "$\\displaystyle \\frac{- h^{4} + 4 h r^{3} - 3 r^{4}}{2 h^{3} r^{2}}$"
      ],
      "text/plain": [
       "   4        3      4\n",
       "- h  + 4⋅h⋅r  - 3⋅r \n",
       "────────────────────\n",
       "         3  2       \n",
       "      2⋅h ⋅r        "
      ]
     },
     "execution_count": 9,
     "metadata": {},
     "output_type": "execute_result"
    }
   ],
   "source": [
    "gradient = simplify(diff(func, r))\n",
    "simplify(gradient)"
   ]
  },
  {
   "cell_type": "code",
   "execution_count": 10,
   "metadata": {},
   "outputs": [
    {
     "data": {
      "image/png": "[encoded data removed]",
      "text/latex": [
       "$\\displaystyle \\frac{h}{r^{3}} + \\frac{2}{h^{2}} - \\frac{3 r}{h^{3}}$"
      ],
      "text/plain": [
       "h    2    3⋅r\n",
       "── + ── - ───\n",
       " 3    2     3\n",
       "r    h     h "
      ]
     },
     "execution_count": 10,
     "metadata": {},
     "output_type": "execute_result"
    }
   ],
   "source": [
    "laplacian = simplify(diff(gradient, r))\n",
    "simplify(laplacian)"
   ]
  }
 ],
 "metadata": {
  "kernelspec": {
   "display_name": "Python 3",
   "language": "python",
   "name": "python3"
  },
  "language_info": {
   "codemirror_mode": {
    "name": "ipython",
    "version": 3
   },
   "file_extension": ".py",
   "mimetype": "text/x-python",
   "name": "python",
   "nbconvert_exporter": "python",
   "pygments_lexer": "ipython3",
   "version": "3.11.8"
  }
 },
 "nbformat": 4,
 "nbformat_minor": 2
}
