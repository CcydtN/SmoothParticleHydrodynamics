{
 "cells": [
  {
   "cell_type": "code",
   "execution_count": 16,
   "metadata": {},
   "outputs": [],
   "source": [
    "from sympy import *\n",
    "from sympy.physics.mechanics import *\n",
    "import math\n",
    "init_vprinting()"
   ]
  },
  {
   "cell_type": "code",
   "execution_count": 17,
   "metadata": {},
   "outputs": [
    {
     "data": {
      "image/png": "[encoded data removed]",
      "text/latex": [
       "$\\displaystyle \\frac{8 h^{2} π}{5}$"
      ],
      "text/plain": [
       "   2  \n",
       "8⋅h ⋅π\n",
       "──────\n",
       "  5   "
      ]
     },
     "execution_count": 17,
     "metadata": {},
     "output_type": "execute_result"
    }
   ],
   "source": [
    "h, r, pi = symbols(\"h r π\")\n",
    "\n",
    "func = (-r**3/(2*h**3) + (r/h)**2 + h/(2*r) -1)\n",
    "\n",
    "volume = integrate(2*pi*r*func, (r, -h, h))\n",
    "func = func/volume\n",
    "\n",
    "simplify(volume)\n"
   ]
  },
  {
   "cell_type": "code",
   "execution_count": 18,
   "metadata": {},
   "outputs": [
    {
     "data": {
      "image/png": "[encoded data removed]",
      "text/latex": [
       "$\\displaystyle \\frac{5 \\left(h^{4} - 2 h^{3} r + 2 h r^{3} - r^{4}\\right)}{16 h^{5} r π}$"
      ],
      "text/plain": [
       "  ⎛ 4      3          3    4⎞\n",
       "5⋅⎝h  - 2⋅h ⋅r + 2⋅h⋅r  - r ⎠\n",
       "─────────────────────────────\n",
       "              5              \n",
       "          16⋅h ⋅r⋅π          "
      ]
     },
     "execution_count": 18,
     "metadata": {},
     "output_type": "execute_result"
    }
   ],
   "source": [
    "simplify(func)"
   ]
  },
  {
   "cell_type": "code",
   "execution_count": 19,
   "metadata": {},
   "outputs": [
    {
     "data": {
      "image/png": "[encoded data removed]",
      "text/latex": [
       "$\\displaystyle \\frac{5 \\left(- h^{4} + 4 h r^{3} - 3 r^{4}\\right)}{16 h^{5} r^{2} π}$"
      ],
      "text/plain": [
       "  ⎛   4        3      4⎞\n",
       "5⋅⎝- h  + 4⋅h⋅r  - 3⋅r ⎠\n",
       "────────────────────────\n",
       "           5  2         \n",
       "       16⋅h ⋅r ⋅π       "
      ]
     },
     "execution_count": 19,
     "metadata": {},
     "output_type": "execute_result"
    }
   ],
   "source": [
    "gradient = simplify(diff(func, r))\n",
    "simplify(gradient)"
   ]
  },
  {
   "cell_type": "code",
   "execution_count": 20,
   "metadata": {},
   "outputs": [
    {
     "data": {
      "image/png": "[encoded data removed]",
      "text/latex": [
       "$\\displaystyle \\frac{5 \\left(h^{4} + 2 h r^{3} - 3 r^{4}\\right)}{8 h^{5} r^{3} π}$"
      ],
      "text/plain": [
       "  ⎛ 4        3      4⎞\n",
       "5⋅⎝h  + 2⋅h⋅r  - 3⋅r ⎠\n",
       "──────────────────────\n",
       "         5  3         \n",
       "      8⋅h ⋅r ⋅π       "
      ]
     },
     "execution_count": 20,
     "metadata": {},
     "output_type": "execute_result"
    }
   ],
   "source": [
    "laplacian = simplify(diff(gradient, r))\n",
    "simplify(laplacian)"
   ]
  }
 ],
 "metadata": {
  "kernelspec": {
   "display_name": "Python 3",
   "language": "python",
   "name": "python3"
  },
  "language_info": {
   "codemirror_mode": {
    "name": "ipython",
    "version": 3
   },
   "file_extension": ".py",
   "mimetype": "text/x-python",
   "name": "python",
   "nbconvert_exporter": "python",
   "pygments_lexer": "ipython3",
   "version": "3.11.8"
  }
 },
 "nbformat": 4,
 "nbformat_minor": 2
}
