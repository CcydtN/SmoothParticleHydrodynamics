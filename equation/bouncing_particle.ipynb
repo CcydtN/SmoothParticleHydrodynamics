{
 "cells": [
  {
   "cell_type": "code",
   "execution_count": 68,
   "metadata": {},
   "outputs": [],
   "source": [
    "from sympy import *\n",
    "from sympy.physics.mechanics import *\n",
    "init_vprinting()"
   ]
  },
  {
   "cell_type": "code",
   "execution_count": 69,
   "metadata": {},
   "outputs": [],
   "source": [
    "m, g, t, k = symbols(\"m g t k\")\n",
    "x, y = dynamicsymbols(\"x y\")\n",
    "\n",
    "y_dt = diff(y, t)\n",
    "y_ddt = diff(y_dt, t)\n",
    "\n",
    "T_y = 1 / 2 * m * (y_dt ** 2)\n",
    "V_y = m * (-g) * y\n",
    "D_y = 1 / 2  * k * (y_dt ** 2)\n",
    "L_y = T_y - V_y\n",
    "\n",
    "x_dt = diff(x, t)\n",
    "x_ddt = diff(x_dt, t)\n",
    "\n",
    "T_x = 1 / 2 * m * (x_dt ** 2)\n",
    "V_x = 0\n",
    "D_x = 1 / 2 * k * (x_dt ** 2)\n",
    "L_x = T_x - V_x"
   ]
  },
  {
   "cell_type": "code",
   "execution_count": 70,
   "metadata": {},
   "outputs": [
    {
     "data": {
      "image/png": "[encoded data removed]",
      "text/latex": [
       "$\\displaystyle \\left[\\begin{matrix}\\ddot{x}\\\\\\ddot{y}\\end{matrix}\\right] = \\left[\\begin{matrix}- \\frac{k \\dot{x}}{m}\\\\\\frac{g m - k \\dot{y}}{m}\\end{matrix}\\right]$"
      ],
      "text/plain": [
       "      ⎡  -k⋅ẋ   ⎤\n",
       "      ⎢  ─────  ⎥\n",
       "⎡ẍ⎤   ⎢    m    ⎥\n",
       "⎢ ⎥ = ⎢         ⎥\n",
       "⎣ÿ⎦   ⎢g⋅m - k⋅ẏ⎥\n",
       "      ⎢─────────⎥\n",
       "      ⎣    m    ⎦"
      ]
     },
     "execution_count": 70,
     "metadata": {},
     "output_type": "execute_result"
    }
   ],
   "source": [
    "eqn_x = diff(diff(L_x, x_dt), t) - diff(L_x, x) + diff(D_x, x_dt)\n",
    "eqn_y = diff(diff(L_y, y_dt), t) - diff(L_y, y) + diff(D_y, y_dt)\n",
    "\n",
    "sln = solve([eqn_x, eqn_y], [x_ddt, y_ddt])\n",
    "simplify(sln)\n",
    "\n",
    "variable = [x_ddt, y_ddt]\n",
    "solution = [ sln[v] for v in variable ]\n",
    "\n",
    "lhs, rhs = Matrix(variable), Matrix(solution)\n",
    "Eq(lhs, rhs)"
   ]
  }
 ],
 "metadata": {
  "kernelspec": {
   "display_name": "Python 3",
   "language": "python",
   "name": "python3"
  },
  "language_info": {
   "codemirror_mode": {
    "name": "ipython",
    "version": 3
   },
   "file_extension": ".py",
   "mimetype": "text/x-python",
   "name": "python",
   "nbconvert_exporter": "python",
   "pygments_lexer": "ipython3",
   "version": "3.11.7"
  }
 },
 "nbformat": 4,
 "nbformat_minor": 2
}
